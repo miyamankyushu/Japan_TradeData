{
 "cells": [
  {
   "cell_type": "markdown",
   "id": "ecbd3b1a",
   "metadata": {},
   "source": [
    "## HScodeマスタの取得"
   ]
  },
  {
   "cell_type": "markdown",
   "id": "2629407e",
   "metadata": {},
   "source": []
  },
  {
   "cell_type": "code",
   "execution_count": null,
   "id": "56280117",
   "metadata": {},
   "outputs": [],
   "source": []
  },
  {
   "cell_type": "code",
   "execution_count": 1,
   "id": "718bc0a8",
   "metadata": {},
   "outputs": [],
   "source": [
    "# 年、月、Noの範囲を指定\n",
    "year = 2025\n",
    "month = 1\n",
    "No_range = range(1, 98)  # 1から97までの範囲"
   ]
  },
  {
   "cell_type": "code",
   "execution_count": null,
   "id": "0ae9e727",
   "metadata": {},
   "outputs": [],
   "source": [
    "# 空のリストを作成\n",
    "dfs = []\n",
    "# for文でデータを取得し、リストに追加\n",
    "for url in urls:\n",
    "    print(url)\n",
    "    if url[-6:]!='80.htm' and url[-6:]!='72.htm':\n",
    "        df = HS_code_master(url)\n",
    "    elif url[-6:]=='72.htm':\n",
    "        df = HS_code_master_72(url)\n",
    "    elif url[-6:]=='80.htm':\n",
    "        df = HS_code_master_80(url)\n",
    "    dfs.append(df)\n",
    "# リスト内のDataFrameを縦結合\n",
    "result_df = pd.concat(dfs, ignore_index=True)\n"
   ]
  }
 ],
 "metadata": {
  "kernelspec": {
   "display_name": "Python 3",
   "language": "python",
   "name": "python3"
  },
  "language_info": {
   "codemirror_mode": {
    "name": "ipython",
    "version": 3
   },
   "file_extension": ".py",
   "mimetype": "text/x-python",
   "name": "python",
   "nbconvert_exporter": "python",
   "pygments_lexer": "ipython3",
   "version": "3.11.9"
  }
 },
 "nbformat": 4,
 "nbformat_minor": 5
}
