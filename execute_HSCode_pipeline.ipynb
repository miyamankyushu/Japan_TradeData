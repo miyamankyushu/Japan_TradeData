{
 "cells": [
  {
   "cell_type": "markdown",
   "id": "ecbd3b1a",
   "metadata": {},
   "source": [
    "# 📦 日本貿易統計データ処理ノートブック\n",
    "\n",
    "## 🔹 1. ライブラリのインポート\n",
    "\n"
   ]
  },
  {
   "cell_type": "code",
   "execution_count": 1,
   "id": "524e9184",
   "metadata": {},
   "outputs": [],
   "source": [
    "from library.HScode_scrape import (generate_customs_urls,fetch_and_concat_data,validate_and_log_hs_dataframe)\n",
    "from library.get_export_data_HSitem import TradeDataPipeline\n",
    "import pandas as pd"
   ]
  },
  {
   "cell_type": "markdown",
   "id": "aa61e402",
   "metadata": {},
   "source": [
    "---\n",
    "\n",
    "## 🔹 2. HSコードマスタの取得・保存\n",
    "\n",
    "### 対象年・月・番号範囲の指定"
   ]
  },
  {
   "cell_type": "code",
   "execution_count": null,
   "id": "b759ce1c",
   "metadata": {},
   "outputs": [],
   "source": [
    "year, month = 2010, 1\n",
    "num_range = range(1, 98)"
   ]
  },
  {
   "cell_type": "markdown",
   "id": "80a25bd7",
   "metadata": {},
   "source": [
    "### データ取得 & 検証 & 保存"
   ]
  },
  {
   "cell_type": "code",
   "execution_count": 10,
   "id": "a5d1b82f",
   "metadata": {},
   "outputs": [
    {
     "name": "stdout",
     "output_type": "stream",
     "text": [
      "✅ 検査ログを保存しました: ./reference_master/HS_master/log\\2025-04-22_20-31-05_hs_check_log_2010.csv\n"
     ]
    }
   ],
   "source": [
    "# HSコードのスクレイピング実行\n",
    "urls = generate_customs_urls(year, month, num_range)\n",
    "df = fetch_and_concat_data(urls)\n",
    "log_df = validate_and_log_hs_dataframe(df, year)\n",
    "\n",
    "# CSVで保存\n",
    "df.to_csv(f'./reference_master/HS_master/HSコードマスタ_{year:04d}.csv', encoding='utf-8', index=False)"
   ]
  },
  {
   "cell_type": "markdown",
   "id": "6eb72db9",
   "metadata": {},
   "source": [
    "## 🔹 3. e-Stat API を用いた貿易データの取得と保存\n",
    "\n",
    "### パラメータの設定"
   ]
  },
  {
   "cell_type": "code",
   "execution_count": 2,
   "id": "753fd422",
   "metadata": {},
   "outputs": [],
   "source": [
    "# 分類種別、対象年月、APIキーの指定\n",
    "syurui = 'HS'  # 品目別\n",
    "year, month = 2024, '01'\n",
    "api_key = \"cd892ddafd38c70af31204e5e2927a3573fa942e\""
   ]
  },
  {
   "cell_type": "markdown",
   "id": "d8c3256a",
   "metadata": {},
   "source": [
    "### マスタの読み込みとフィルタリング"
   ]
  },
  {
   "cell_type": "code",
   "execution_count": 3,
   "id": "9555e198",
   "metadata": {},
   "outputs": [],
   "source": [
    "# 貿易統計マスタと対象データの抽出\n",
    "trade_counter_df = pd.read_excel('./reference_master/counter/貿易統計_対応表.xlsx', dtype=str)\n",
    "hs_counter_df = trade_counter_df[(trade_counter_df['分類'] == syurui) & (trade_counter_df['year'].astype(int) == year)].reset_index(drop=True)\n",
    "\n",
    "# 国コードマスタの読み込み\n",
    "nation_df = pd.read_excel('./reference_master/area/nation.xlsx')"
   ]
  },
  {
   "cell_type": "markdown",
   "id": "b751caa3",
   "metadata": {},
   "source": [
    "### パイプライン実行"
   ]
  },
  {
   "cell_type": "code",
   "execution_count": 4,
   "id": "ae5bfac4",
   "metadata": {},
   "outputs": [
    {
     "name": "stdout",
     "output_type": "stream",
     "text": [
      "✅ 初期化完了: 取得開始\n",
      "▶️ 分類：HS 2024年 01月\n",
      "📁 保存完了: ./Output/HS_item/2024_01_国別_税関別_HS品目別.csv\n",
      "⏱️ 実行完了: 1分 46秒\n"
     ]
    }
   ],
   "source": [
    "pipeline = TradeDataPipeline(hs_counter_df, trade_counter_df, nation_df, year, month, api_key)\n",
    "pipeline.run()"
   ]
  },
  {
   "cell_type": "markdown",
   "id": "14392ca9",
   "metadata": {},
   "source": [
    "### 一括実行"
   ]
  },
  {
   "cell_type": "code",
   "execution_count": null,
   "id": "fdfc7373",
   "metadata": {},
   "outputs": [
    {
     "name": "stdout",
     "output_type": "stream",
     "text": [
      "✅ 初期化完了: 取得開始\n",
      "▶️ 分類：HS 2010年 01月\n",
      "📁 保存完了: ./Output/HS_item/2024_01_税関別_20250423.csv\n",
      "⏱️ 実行完了: 2分 1秒\n",
      "✅ 初期化完了: 取得開始\n",
      "▶️ 分類：HS 2010年 02月\n"
     ]
    },

   ],
   "source": [
    "api_key = \"cd892ddafd38c70af31204e5e2927a3573fa942e\"\n",
    "syurui = 'HS'  # 品目別\n",
    "for year in range (2010, 2024):\n",
    "    for month in ['01','02','03','04','05','06','07','08','09','10','11','12']:\n",
    "        # 分類種別、対象年月、APIキーの指定\n",
    "        syurui = 'HS'\n",
    "        # 貿易統計マスタと対象データの抽出\n",
    "        trade_counter_df = pd.read_excel('./reference_master/counter/貿易統計_対応表.xlsx', dtype=str)\n",
    "        hs_counter_df = trade_counter_df[(trade_counter_df['分類'] == syurui) & (trade_counter_df['year'].astype(int) == year)].reset_index(drop=True)\n",
    "\n",
    "        # 国コードマスタの読み込み\n",
    "        nation_df = pd.read_excel('./reference_master/area/nation.xlsx')\n",
    "        pipeline = TradeDataPipeline(hs_counter_df, trade_counter_df, nation_df, year, month, api_key)\n",
    "        pipeline.run()"
   ]
  },
  {
   "cell_type": "markdown",
   "id": "99f93ba5",
   "metadata": {},
   "source": [
    "### ✅ 出力物\n",
    "\n",
    "- `./reference_master/HS_master/HSコードマスタ_{year}.csv` : HSコードマスタデータ\n",
    "- `./Output/HS_item/` 以下 : 月次の貿易データ（数量・金額）CSV出力\n",
    "- ログファイル : 不正なデータ行の記録\n",
    "\n",
    "---\n",
    "\n",
    "### 📝 メモ\n",
    "- `.gitignore` に出力ファイルパスを追加しておくと、誤ってリポジトリに大容量CSVを含めることを防げます。\n",
    "- Jupyter Notebook 上では各セルごとに実行できるため、エラー発生時も柔軟にデバッグ可能です。\n"
   ]
  },
  {
   "cell_type": "code",
   "execution_count": null,
   "id": "4f8387ca",
   "metadata": {},
   "outputs": [],
   "source": []
  }
 ],
 "metadata": {
  "kernelspec": {
   "display_name": "Python 3",
   "language": "python",
   "name": "python3"
  },
  "language_info": {
   "codemirror_mode": {
    "name": "ipython",
    "version": 3
   },
   "file_extension": ".py",
   "mimetype": "text/x-python",
   "name": "python",
   "nbconvert_exporter": "python",
   "pygments_lexer": "ipython3",
   "version": "3.11.9"
  }
 },
 "nbformat": 4,
 "nbformat_minor": 5
}
