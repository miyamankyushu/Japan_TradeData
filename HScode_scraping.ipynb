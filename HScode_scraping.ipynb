{
 "cells": [
  {
   "cell_type": "markdown",
   "id": "ecbd3b1a",
   "metadata": {},
   "source": [
    "## HScodeマスタの取得"
   ]
  },
  {
   "cell_type": "markdown",
   "id": "2629407e",
   "metadata": {},
   "source": []
  },
  {
   "cell_type": "code",
   "execution_count": 1,
   "id": "5b105a77",
   "metadata": {},
   "outputs": [],
   "source": [
    "from library.HScode_scrape import generate_customs_urls\n",
    "from library.HScode_scrape import fetch_and_concat_data\n",
    "from library.HScode_scrape import validate_and_log_hs_dataframe\n",
    "from library.get_export_data_HSitem import TradeDataPipeline\n",
    "import pandas as pd"
   ]
  },
  {
   "cell_type": "code",
   "execution_count": null,
   "id": "718bc0a8",
   "metadata": {},
   "outputs": [
    {
     "name": "stdout",
     "output_type": "stream",
     "text": [
      "✅ 検査ログを保存しました: ./reference_master/HS_master/log\\2025-04-22_hs_check_log_2010.csv\n"
     ]
    }
   ],
   "source": [
    "# 年、月、Noの範囲を指定\n",
    "year, month = 2010, 1\n",
    "num_range = range(1, 98)\n",
    "#実行\n",
    "urls=generate_customs_urls(year, month, num_range)\n",
    "df=fetch_and_concat_data(urls)\n",
    "log_df = validate_and_log_hs_dataframe(df,year)\n",
    "df.to_csv(f'./reference_master/HS_master/HSコードマスタ_{year:04d}.csv', encoding='utf-8', index=False)\n",
    "df.to_csv(f'./reference_master/HS_master/HSコードマスタ_{year:04d}.csv', encoding='utf-8', index=False)"
   ]
  },
  {
   "cell_type": "markdown",
   "id": "46052081",
   "metadata": {},
   "source": [
    "## HS別にデータを取得"
   ]
  },
  {
   "cell_type": "code",
   "execution_count": null,
   "id": "483363cd",
   "metadata": {},
   "outputs": [
    {
     "name": "stdout",
     "output_type": "stream",
     "text": [
      "✅ 初期化完了: 取得開始\n",
      "▶️ 分類：HS 2024年 01月\n"
     ]
    }
   ],
   "source": [
    "syurui='HS'#品目別\n",
    "year,month=2024,'01'\n",
    "api_key = \"cd892ddafd38c70af31204e5e2927a3573fa942e\"\n",
    "trade_counter_df = pd.read_excel('./reference_master/counter/貿易統計_対応表.xlsx',dtype=str)#文字列\n",
    "hs_counter_df = trade_counter_df[(trade_counter_df['分類'] == syurui) & (trade_counter_df['year'].astype(int) == year)].reset_index(drop=True)\n",
    "nation_df = pd.read_excel('./reference_master/area/nation.xlsx')\n",
    "pipeline = TradeDataPipeline(hs_counter_df, trade_counter_df, nation_df, month, api_key)\n",
    "pipeline.run()"
   ]
  },
  {
   "cell_type": "code",
   "execution_count": null,
   "id": "4f8387ca",
   "metadata": {},
   "outputs": [],
   "source": []
  }
 ],
 "metadata": {
  "kernelspec": {
   "display_name": "Python 3",
   "language": "python",
   "name": "python3"
  },
  "language_info": {
   "codemirror_mode": {
    "name": "ipython",
    "version": 3
   },
   "file_extension": ".py",
   "mimetype": "text/x-python",
   "name": "python",
   "nbconvert_exporter": "python",
   "pygments_lexer": "ipython3",
   "version": "3.11.9"
  }
 },
 "nbformat": 4,
 "nbformat_minor": 5
}
