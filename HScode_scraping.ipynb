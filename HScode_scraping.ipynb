{
 "cells": [
  {
   "cell_type": "markdown",
   "id": "ecbd3b1a",
   "metadata": {},
   "source": [
    "## HScodeマスタの取得"
   ]
  },
  {
   "cell_type": "markdown",
   "id": "2629407e",
   "metadata": {},
   "source": []
  },
  {
   "cell_type": "code",
   "execution_count": 1,
   "id": "5b105a77",
   "metadata": {},
   "outputs": [],
   "source": [
    "from library.HScode_scrape import generate_customs_urls\n",
    "from library.HScode_scrape import fetch_and_concat_data\n",
    "from library.HScode_scrape import validate_and_log_hs_dataframe\n",
    "from library.Get_exportdata_HSitem import get_data\n",
    "from library.Get_exportdata_HSitem import run_trade_data_pipeline\n",
    "import pandas as pd"
   ]
  },
  {
   "cell_type": "code",
   "execution_count": null,
   "id": "718bc0a8",
   "metadata": {},
   "outputs": [
    {
     "name": "stdout",
     "output_type": "stream",
     "text": [
      "✅ 検査ログを保存しました: ./reference_master/HS_master/log\\2025-04-22_hs_check_log_2010.csv\n"
     ]
    }
   ],
   "source": [
    "\n",
    "\n",
    "# 年、月、Noの範囲を指定\n",
    "year, month = 2010, 1\n",
    "num_range = range(1, 98)\n",
    "#実行\n",
    "urls=generate_customs_urls(year, month, num_range)\n",
    "df=fetch_and_concat_data(urls)\n",
    "log_df = validate_and_log_hs_dataframe(df,year)\n",
    "df.to_csv(f'./reference_master/HS_master/HSコードマスタ_{year:04d}.csv', encoding='utf-8', index=False)"
   ]
  },
  {
   "cell_type": "markdown",
   "id": "46052081",
   "metadata": {},
   "source": [
    "## HS別にデータを取得"
   ]
  },
  {
   "cell_type": "code",
   "execution_count": 1,
   "id": "483363cd",
   "metadata": {},
   "outputs": [
    {
     "ename": "NameError",
     "evalue": "name 'pd' is not defined",
     "output_type": "error",
     "traceback": [
      "\u001b[31m---------------------------------------------------------------------------\u001b[39m",
      "\u001b[31mNameError\u001b[39m                                 Traceback (most recent call last)",
      "\u001b[36mCell\u001b[39m\u001b[36m \u001b[39m\u001b[32mIn[1]\u001b[39m\u001b[32m, line 7\u001b[39m\n\u001b[32m      5\u001b[39m m_q_list = \u001b[33m'\u001b[39m\u001b[33m,\u001b[39m\u001b[33m'\u001b[39m.join(\u001b[38;5;28mmap\u001b[39m(\u001b[38;5;28mstr\u001b[39m, \u001b[38;5;28mlist\u001b[39m(\u001b[38;5;28mrange\u001b[39m(\u001b[32m170\u001b[39m, \u001b[32m501\u001b[39m, \u001b[32m30\u001b[39m)) + \u001b[38;5;28mlist\u001b[39m(\u001b[38;5;28mrange\u001b[39m(\u001b[32m160\u001b[39m, \u001b[32m491\u001b[39m, \u001b[32m30\u001b[39m)))) \u001b[38;5;66;03m#金額コード,数量2コードの指定\u001b[39;00m\n\u001b[32m      6\u001b[39m m_q_list = \u001b[33m'\u001b[39m\u001b[33m,\u001b[39m\u001b[33m'\u001b[39m.join(\u001b[38;5;28mmap\u001b[39m(\u001b[38;5;28mstr\u001b[39m, \u001b[38;5;28mlist\u001b[39m(\u001b[38;5;28mrange\u001b[39m(\u001b[32m170\u001b[39m, \u001b[32m180\u001b[39m, \u001b[32m30\u001b[39m)) + \u001b[38;5;28mlist\u001b[39m(\u001b[38;5;28mrange\u001b[39m(\u001b[32m160\u001b[39m, \u001b[32m180\u001b[39m, \u001b[32m30\u001b[39m)))) \u001b[38;5;66;03m#金額コード,数量2コードの指定\u001b[39;00m\n\u001b[32m----> \u001b[39m\u001b[32m7\u001b[39m trade_counter_df = \u001b[43mpd\u001b[49m.read_excel(\u001b[33m'\u001b[39m\u001b[33m./reference_master/counter/貿易統計_対応表.xlsx\u001b[39m\u001b[33m'\u001b[39m)\n\u001b[32m      8\u001b[39m hs_counter_df = trade_counter_df[(trade_counter_df[\u001b[33m'\u001b[39m\u001b[33m分類\u001b[39m\u001b[33m'\u001b[39m] == syurui) & (trade_counter_df[\u001b[33m'\u001b[39m\u001b[33myear\u001b[39m\u001b[33m'\u001b[39m].astype(\u001b[38;5;28mint\u001b[39m) >= start_year)& (trade_counter_df[\u001b[33m'\u001b[39m\u001b[33myear\u001b[39m\u001b[33m'\u001b[39m].astype(\u001b[38;5;28mint\u001b[39m) <= end_year)].reset_index(drop=\u001b[38;5;28;01mTrue\u001b[39;00m)\n\u001b[32m      9\u001b[39m nation_df = pd.read_excel(\u001b[33m'\u001b[39m\u001b[33m./reference_master/area/nation.xlsx\u001b[39m\u001b[33m'\u001b[39m)\n",
      "\u001b[31mNameError\u001b[39m: name 'pd' is not defined"
     ]
    }
   ],
   "source": [
    "syurui='HS'#品目別\n",
    "start_year=2021 #2021\n",
    "end_year=2022\n",
    "api_key = \"cd892ddafd38c70af31204e5e2927a3573fa942e\"\n",
    "m_q_list = ','.join(map(str, list(range(170, 501, 30)) + list(range(160, 491, 30)))) #金額コード,数量2コードの指定\n",
    "m_q_list = ','.join(map(str, list(range(170, 180, 30)) + list(range(160, 180, 30)))) #金額コード,数量2コードの指定\n",
    "trade_counter_df = pd.read_excel('./reference_master/counter/貿易統計_対応表.xlsx')\n",
    "hs_counter_df = trade_counter_df[(trade_counter_df['分類'] == syurui) & (trade_counter_df['year'].astype(int) >= start_year)& (trade_counter_df['year'].astype(int) <= end_year)].reset_index(drop=True)\n",
    "nation_df = pd.read_excel('./reference_master/area/nation.xlsx')"
   ]
  },
  {
   "cell_type": "code",
   "execution_count": 3,
   "id": "95d4951a",
   "metadata": {},
   "outputs": [
    {
     "name": "stdout",
     "output_type": "stream",
     "text": [
      "取得開始\n",
      "分類： HS , 年度： 2022 , StatdataID： 3425301\n"
     ]
    },
    {
     "ename": "NameError",
     "evalue": "name 'api_key' is not defined",
     "output_type": "error",
     "traceback": [
      "\u001b[31m---------------------------------------------------------------------------\u001b[39m",
      "\u001b[31mNameError\u001b[39m                                 Traceback (most recent call last)",
      "\u001b[36mCell\u001b[39m\u001b[36m \u001b[39m\u001b[32mIn[3]\u001b[39m\u001b[32m, line 1\u001b[39m\n\u001b[32m----> \u001b[39m\u001b[32m1\u001b[39m df=\u001b[43mrun_trade_data_pipeline\u001b[49m\u001b[43m(\u001b[49m\u001b[43mhs_counter_df\u001b[49m\u001b[43m,\u001b[49m\u001b[43m \u001b[49m\u001b[43mtrade_counter_df\u001b[49m\u001b[43m,\u001b[49m\u001b[43m \u001b[49m\u001b[43mnation_df\u001b[49m\u001b[43m,\u001b[49m\u001b[43mm_q_list\u001b[49m\u001b[43m,\u001b[49m\u001b[43mapi_key\u001b[49m\u001b[43m)\u001b[49m\n",
      "\u001b[36mFile \u001b[39m\u001b[32mc:\\Users\\DELL\\Documents\\01_Japan_TradeData\\library\\Get_exportdata_HSitem.py:55\u001b[39m, in \u001b[36mrun_trade_data_pipeline\u001b[39m\u001b[34m(hs_counter_df, trade_counter_df, nation_df, m_q_list, api_key)\u001b[39m\n\u001b[32m     52\u001b[39m startPosition = \u001b[32m1\u001b[39m  \u001b[38;5;66;03m# init\u001b[39;00m\n\u001b[32m     53\u001b[39m \u001b[38;5;66;03m# 10万件未満⇒next_startPosition = 1\u001b[39;00m\n\u001b[32m     54\u001b[39m \u001b[38;5;66;03m# 10万件以上⇒next_startPosition > 1\u001b[39;00m\n\u001b[32m---> \u001b[39m\u001b[32m55\u001b[39m df, next_startPosition = \u001b[43mget_data\u001b[49m\u001b[43m(\u001b[49m\u001b[43mstatdataID\u001b[49m\u001b[43m,\u001b[49m\u001b[43m \u001b[49m\u001b[43mstartPosition\u001b[49m\u001b[43m,\u001b[49m\u001b[43mcat02_list\u001b[49m\u001b[43m,\u001b[49m\u001b[43myear\u001b[49m\u001b[43m)\u001b[49m\n\u001b[32m     56\u001b[39m \u001b[38;5;28;01mif\u001b[39;00m df.columns[\u001b[32m0\u001b[39m]==\u001b[33m'\u001b[39m\u001b[33mRESULT\u001b[39m\u001b[33m'\u001b[39m:\n\u001b[32m     57\u001b[39m     syutoku_data+=\u001b[38;5;28mlen\u001b[39m(df)\n",
      "\u001b[36mFile \u001b[39m\u001b[32mc:\\Users\\DELL\\Documents\\01_Japan_TradeData\\library\\Get_exportdata_HSitem.py:13\u001b[39m, in \u001b[36mget_data\u001b[39m\u001b[34m(statdataID, startPosition, cat02, year)\u001b[39m\n\u001b[32m     10\u001b[39m \u001b[38;5;28;01mdef\u001b[39;00m\u001b[38;5;250m \u001b[39m\u001b[34mget_data\u001b[39m(statdataID, startPosition, cat02,year):\n\u001b[32m     11\u001b[39m     url = \u001b[33m'\u001b[39m\u001b[33mhttp://api.e-stat.go.jp/rest/3.0/app/getSimpleStatsData\u001b[39m\u001b[33m'\u001b[39m\n\u001b[32m     12\u001b[39m     params = {\n\u001b[32m---> \u001b[39m\u001b[32m13\u001b[39m         \u001b[33m'\u001b[39m\u001b[33mappId\u001b[39m\u001b[33m'\u001b[39m: \u001b[43mapi_key\u001b[49m,\n\u001b[32m     14\u001b[39m         \u001b[33m'\u001b[39m\u001b[33mlang\u001b[39m\u001b[33m'\u001b[39m: \u001b[33m'\u001b[39m\u001b[33mJ\u001b[39m\u001b[33m'\u001b[39m,\n\u001b[32m     15\u001b[39m         \u001b[33m'\u001b[39m\u001b[33mstatsDataId\u001b[39m\u001b[33m'\u001b[39m: statdataID,\n\u001b[32m     16\u001b[39m         \u001b[33m'\u001b[39m\u001b[33mmetaGetFlg\u001b[39m\u001b[33m'\u001b[39m: \u001b[33m'\u001b[39m\u001b[33mN\u001b[39m\u001b[33m'\u001b[39m,\n\u001b[32m     17\u001b[39m         \u001b[33m'\u001b[39m\u001b[33mcntGetFlg\u001b[39m\u001b[33m'\u001b[39m: \u001b[33m'\u001b[39m\u001b[33mN\u001b[39m\u001b[33m'\u001b[39m,\n\u001b[32m     18\u001b[39m         \u001b[33m'\u001b[39m\u001b[33mexplanationGetFlg\u001b[39m\u001b[33m'\u001b[39m: \u001b[33m'\u001b[39m\u001b[33mN\u001b[39m\u001b[33m'\u001b[39m,\n\u001b[32m     19\u001b[39m         \u001b[33m'\u001b[39m\u001b[33mannotationGetFlg\u001b[39m\u001b[33m'\u001b[39m: \u001b[33m'\u001b[39m\u001b[33mN\u001b[39m\u001b[33m'\u001b[39m,\n\u001b[32m     20\u001b[39m         \u001b[33m'\u001b[39m\u001b[33msectionHeaderFlg\u001b[39m\u001b[33m'\u001b[39m: \u001b[33m'\u001b[39m\u001b[33m1\u001b[39m\u001b[33m'\u001b[39m,\n\u001b[32m     21\u001b[39m         \u001b[33m'\u001b[39m\u001b[33mreplaceSpChars\u001b[39m\u001b[33m'\u001b[39m: \u001b[33m'\u001b[39m\u001b[33m0\u001b[39m\u001b[33m'\u001b[39m,\n\u001b[32m     22\u001b[39m         \u001b[33m'\u001b[39m\u001b[33mlimit\u001b[39m\u001b[33m'\u001b[39m:\u001b[33m'\u001b[39m\u001b[33m100000\u001b[39m\u001b[33m'\u001b[39m,\n\u001b[32m     23\u001b[39m         \u001b[33m'\u001b[39m\u001b[33mstartPosition\u001b[39m\u001b[33m'\u001b[39m: \u001b[38;5;28mstr\u001b[39m(startPosition),\n\u001b[32m     24\u001b[39m         \u001b[33m'\u001b[39m\u001b[33mcdCat02\u001b[39m\u001b[33m'\u001b[39m: cat02,\n\u001b[32m     25\u001b[39m         \u001b[38;5;66;03m#'cdArea':'50112',\u001b[39;00m\n\u001b[32m     26\u001b[39m         \u001b[33m'\u001b[39m\u001b[33mcdTime\u001b[39m\u001b[33m'\u001b[39m:\u001b[38;5;28mstr\u001b[39m(year)+\u001b[33m'\u001b[39m\u001b[33m000000\u001b[39m\u001b[33m'\u001b[39m\n\u001b[32m     27\u001b[39m     }\n\u001b[32m     28\u001b[39m     response = requests.get(url, params=params).text\n\u001b[32m     29\u001b[39m     i_NEXT_KEY = response.find(\u001b[33m'\u001b[39m\u001b[33m\"\u001b[39m\u001b[33mNEXT_KEY\u001b[39m\u001b[33m\"\u001b[39m\u001b[33m'\u001b[39m)\n",
      "\u001b[31mNameError\u001b[39m: name 'api_key' is not defined"
     ]
    }
   ],
   "source": [
    "df=run_trade_data_pipeline(hs_counter_df, trade_counter_df, nation_df,m_q_list,api_key)\n",
    "\n"
   ]
  },
  {
   "cell_type": "code",
   "execution_count": null,
   "id": "4f8387ca",
   "metadata": {},
   "outputs": [],
   "source": []
  }
 ],
 "metadata": {
  "kernelspec": {
   "display_name": "Python 3",
   "language": "python",
   "name": "python3"
  },
  "language_info": {
   "codemirror_mode": {
    "name": "ipython",
    "version": 3
   },
   "file_extension": ".py",
   "mimetype": "text/x-python",
   "name": "python",
   "nbconvert_exporter": "python",
   "pygments_lexer": "ipython3",
   "version": "3.11.9"
  }
 },
 "nbformat": 4,
 "nbformat_minor": 5
}
