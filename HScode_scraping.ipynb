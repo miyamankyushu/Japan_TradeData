{
 "cells": [
  {
   "cell_type": "markdown",
   "id": "ecbd3b1a",
   "metadata": {},
   "source": [
    "## HScodeマスタの取得"
   ]
  },
  {
   "cell_type": "markdown",
   "id": "2629407e",
   "metadata": {},
   "source": []
  },
  {
   "cell_type": "code",
   "execution_count": 1,
   "id": "718bc0a8",
   "metadata": {},
   "outputs": [
    {
     "name": "stdout",
     "output_type": "stream",
     "text": [
      "✅ 検査ログを保存しました: ./reference_master/HS_master/log\\2025-04-22_hs_check_log_2010.csv\n"
     ]
    }
   ],
   "source": [
    "from library.HScode_scrape import generate_customs_urls\n",
    "from library.HScode_scrape import fetch_and_concat_data\n",
    "from library.HScode_scrape import validate_and_log_hs_dataframe\n",
    "\n",
    "# 年、月、Noの範囲を指定\n",
    "year, month = 2010, 1\n",
    "num_range = range(1, 98)\n",
    "#実行\n",
    "urls=generate_customs_urls(year, month, num_range)\n",
    "df=fetch_and_concat_data(urls)\n",
    "log_df = validate_and_log_hs_dataframe(df,year)\n",
    "df.to_csv(f'./reference_master/HS_master/HSコードマスタ_{year:04d}.csv', encoding='utf-8', index=False)"
   ]
  },
  {
   "cell_type": "code",
   "execution_count": null,
   "id": "483363cd",
   "metadata": {},
   "outputs": [],
   "source": []
  }
 ],
 "metadata": {
  "kernelspec": {
   "display_name": "Python 3",
   "language": "python",
   "name": "python3"
  },
  "language_info": {
   "codemirror_mode": {
    "name": "ipython",
    "version": 3
   },
   "file_extension": ".py",
   "mimetype": "text/x-python",
   "name": "python",
   "nbconvert_exporter": "python",
   "pygments_lexer": "ipython3",
   "version": "3.11.9"
  }
 },
 "nbformat": 4,
 "nbformat_minor": 5
}
