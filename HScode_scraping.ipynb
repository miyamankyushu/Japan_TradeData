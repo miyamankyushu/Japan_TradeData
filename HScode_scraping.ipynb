{
 "cells": [
  {
   "cell_type": "markdown",
   "id": "ecbd3b1a",
   "metadata": {},
   "source": [
    "## HScodeマスタの取得"
   ]
  },
  {
   "cell_type": "markdown",
   "id": "2629407e",
   "metadata": {},
   "source": []
  },
  {
   "cell_type": "code",
   "execution_count": null,
   "id": "56280117",
   "metadata": {},
   "outputs": [],
   "source": [
    "# 年、月、Noの範囲を指定\n",
    "year = 2025\n",
    "month = 1\n",
    "No_range = range(1, 98)  # 1から97までの範囲"
   ]
  },
  {
   "cell_type": "code",
   "execution_count": 1,
   "id": "718bc0a8",
   "metadata": {},
   "outputs": [
    {
     "ename": "ImportError",
     "evalue": "cannot import name 'generate_customs_urls' from 'library' (unknown location)",
     "output_type": "error",
     "traceback": [
      "\u001b[31m---------------------------------------------------------------------------\u001b[39m",
      "\u001b[31mImportError\u001b[39m                               Traceback (most recent call last)",
      "\u001b[36mCell\u001b[39m\u001b[36m \u001b[39m\u001b[32mIn[1]\u001b[39m\u001b[32m, line 1\u001b[39m\n\u001b[32m----> \u001b[39m\u001b[32m1\u001b[39m \u001b[38;5;28;01mfrom\u001b[39;00m\u001b[38;5;250m \u001b[39m\u001b[34;01mlibrary\u001b[39;00m\u001b[38;5;250m \u001b[39m\u001b[38;5;28;01mimport\u001b[39;00m generate_customs_urls\n",
      "\u001b[31mImportError\u001b[39m: cannot import name 'generate_customs_urls' from 'library' (unknown location)"
     ]
    }
   ],
   "source": [
    "from library import generate_customs_urls"
   ]
  },
  {
   "cell_type": "code",
   "execution_count": null,
   "id": "812135f8",
   "metadata": {},
   "outputs": [],
   "source": [
    "\n"
   ]
  },
  {
   "cell_type": "code",
   "execution_count": null,
   "id": "0ae9e727",
   "metadata": {},
   "outputs": [],
   "source": [
    "\n"
   ]
  }
 ],
 "metadata": {
  "kernelspec": {
   "display_name": "Python 3",
   "language": "python",
   "name": "python3"
  },
  "language_info": {
   "codemirror_mode": {
    "name": "ipython",
    "version": 3
   },
   "file_extension": ".py",
   "mimetype": "text/x-python",
   "name": "python",
   "nbconvert_exporter": "python",
   "pygments_lexer": "ipython3",
   "version": "3.11.9"
  }
 },
 "nbformat": 4,
 "nbformat_minor": 5
}
