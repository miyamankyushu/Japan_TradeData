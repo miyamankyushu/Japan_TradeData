{
 "cells": [
  {
   "cell_type": "markdown",
   "id": "ecbd3b1a",
   "metadata": {},
   "source": [
    "## HScodeマスタの取得"
   ]
  },
  {
   "cell_type": "markdown",
   "id": "2629407e",
   "metadata": {},
   "source": []
  },
  {
   "cell_type": "code",
   "execution_count": 37,
   "id": "56280117",
   "metadata": {},
   "outputs": [],
   "source": [
    "# 年、月、Noの範囲を指定\n",
    "year = 2024\n",
    "month = 1\n",
    "No_range = range(1, 98)  # 1から97までの範囲"
   ]
  },
  {
   "cell_type": "code",
   "execution_count": 40,
   "id": "718bc0a8",
   "metadata": {},
   "outputs": [],
   "source": [
    "from library.HScode_scrape import generate_customs_urls\n",
    "from library.HScode_scrape import fetch_and_concat_data"
   ]
  },
  {
   "cell_type": "code",
   "execution_count": 41,
   "id": "812135f8",
   "metadata": {},
   "outputs": [],
   "source": [
    "\n",
    "urls=generate_customs_urls(year, month, No_range)"
   ]
  },
  {
   "cell_type": "code",
   "execution_count": 24,
   "id": "0ae9e727",
   "metadata": {},
   "outputs": [],
   "source": [
    "urls = []\n",
    "for No in No_range:\n",
    "    # 77類は存在しないのでスキップ\n",
    "    if No == 77:\n",
    "        continue\n",
    "    if year>=2022:\n",
    "        url = f'https://www.customs.go.jp/yusyutu/{year:04d}_{month:02d}_01/data/print_j_{No:02d}.htm'\n",
    "    elif year>=2020:\n",
    "        if month==4:\n",
    "            url = f'https://www.customs.go.jp/yusyutu/{year:04d}_{month:1d}/data/print_j_{No:02d}.htm'\n",
    "        else:\n",
    "            url = f'https://www.customs.go.jp/yusyutu/{year:04d}_1/data/print_j_{No:02d}.htm'\n",
    "    elif year>=2017:\n",
    "        if month==4:\n",
    "            url = f'https://www.customs.go.jp/yusyutu/{year:04d}_{month:1d}/data/print_j_{No:02d}.htm'\n",
    "        else:\n",
    "            url = f'https://www.customs.go.jp/yusyutu/{year:04d}/data/print_j_{No:02d}.htm'\n",
    "    elif year>=2016:\n",
    "            url = f'https://www.customs.go.jp/yusyutu/{year:04d}/data/print_j_{No:02d}.htm'\n",
    "    elif year>=2010:\n",
    "            url = f'https://www.customs.go.jp/yusyutu/{year:04d}/data/print_e{year:04d}01j_{No:02d}.htm'\n",
    "    else:\n",
    "        raise ValueError('2010年度未満は未対応です')\n",
    "        break\n",
    "    urls.append(url)\n",
    "\n"
   ]
  },
  {
   "cell_type": "code",
   "execution_count": 42,
   "id": "1348477b",
   "metadata": {},
   "outputs": [
    {
     "data": {
      "text/plain": [
       "['https://www.customs.go.jp/yusyutu/2024_01_01/data/print_j_01.htm']"
      ]
     },
     "execution_count": 42,
     "metadata": {},
     "output_type": "execute_result"
    }
   ],
   "source": [
    "urls"
   ]
  },
  {
   "cell_type": "code",
   "execution_count": null,
   "id": "483363cd",
   "metadata": {},
   "outputs": [],
   "source": []
  }
 ],
 "metadata": {
  "kernelspec": {
   "display_name": "Python 3",
   "language": "python",
   "name": "python3"
  },
  "language_info": {
   "codemirror_mode": {
    "name": "ipython",
    "version": 3
   },
   "file_extension": ".py",
   "mimetype": "text/x-python",
   "name": "python",
   "nbconvert_exporter": "python",
   "pygments_lexer": "ipython3",
   "version": "3.11.9"
  }
 },
 "nbformat": 4,
 "nbformat_minor": 5
}
